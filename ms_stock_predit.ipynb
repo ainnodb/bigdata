{
 "cells": [
  {
   "cell_type": "code",
   "execution_count": 1,
   "metadata": {},
   "outputs": [],
   "source": [
    "import pandas as pd\n",
    "import numpy as np\n",
    "from sklearn.linear_model import LinearRegression\n",
    "from sklearn.model_selection import train_test_split\n",
    "import matplotlib.pyplot as plt\n",
    "%matplotlib inline"
   ]
  },
  {
   "cell_type": "code",
   "execution_count": 2,
   "metadata": {},
   "outputs": [],
   "source": [
    "msdata = pd.read_csv('msft_stockprices_dataset.csv')"
   ]
  },
  {
   "cell_type": "code",
   "execution_count": 3,
   "metadata": {},
   "outputs": [
    {
     "name": "stdout",
     "output_type": "stream",
     "text": [
      "<class 'pandas.core.frame.DataFrame'>\n",
      "RangeIndex: 1009 entries, 0 to 1008\n",
      "Data columns (total 6 columns):\n",
      "Date           1009 non-null object\n",
      "High Price     1009 non-null float64\n",
      "Low Price      1009 non-null float64\n",
      "Open Price     1009 non-null float64\n",
      "Close Price    1009 non-null float64\n",
      "Volume         1009 non-null float64\n",
      "dtypes: float64(5), object(1)\n",
      "memory usage: 47.4+ KB\n"
     ]
    }
   ],
   "source": [
    "msdata.info()"
   ]
  },
  {
   "cell_type": "code",
   "execution_count": 4,
   "metadata": {},
   "outputs": [
    {
     "data": {
      "text/plain": [
       "Index(['Date', 'High Price', 'Low Price', 'Open Price', 'Close Price',\n",
       "       'Volume'],\n",
       "      dtype='object')"
      ]
     },
     "execution_count": 4,
     "metadata": {},
     "output_type": "execute_result"
    }
   ],
   "source": [
    "msdata.columns"
   ]
  },
  {
   "cell_type": "code",
   "execution_count": 5,
   "metadata": {},
   "outputs": [
    {
     "data": {
      "text/plain": [
       "Date           False\n",
       "High Price     False\n",
       "Low Price      False\n",
       "Open Price     False\n",
       "Close Price    False\n",
       "Volume         False\n",
       "dtype: bool"
      ]
     },
     "execution_count": 5,
     "metadata": {},
     "output_type": "execute_result"
    }
   ],
   "source": [
    "msdata.isnull().any()"
   ]
  },
  {
   "cell_type": "code",
   "execution_count": 6,
   "metadata": {},
   "outputs": [
    {
     "name": "stdout",
     "output_type": "stream",
     "text": [
      "<class 'pandas.core.frame.DataFrame'>\n",
      "RangeIndex: 1009 entries, 0 to 1008\n",
      "Data columns (total 6 columns):\n",
      "Date           1009 non-null object\n",
      "High Price     1009 non-null float64\n",
      "Low Price      1009 non-null float64\n",
      "Open Price     1009 non-null float64\n",
      "Close Price    1009 non-null float64\n",
      "Volume         1009 non-null float64\n",
      "dtypes: float64(5), object(1)\n",
      "memory usage: 47.4+ KB\n"
     ]
    }
   ],
   "source": [
    "msdata.info()"
   ]
  },
  {
   "cell_type": "code",
   "execution_count": 7,
   "metadata": {},
   "outputs": [
    {
     "data": {
      "text/html": [
       "<div>\n",
       "<style scoped>\n",
       "    .dataframe tbody tr th:only-of-type {\n",
       "        vertical-align: middle;\n",
       "    }\n",
       "\n",
       "    .dataframe tbody tr th {\n",
       "        vertical-align: top;\n",
       "    }\n",
       "\n",
       "    .dataframe thead th {\n",
       "        text-align: right;\n",
       "    }\n",
       "</style>\n",
       "<table border=\"1\" class=\"dataframe\">\n",
       "  <thead>\n",
       "    <tr style=\"text-align: right;\">\n",
       "      <th></th>\n",
       "      <th>High Price</th>\n",
       "      <th>Low Price</th>\n",
       "      <th>Open Price</th>\n",
       "      <th>Close Price</th>\n",
       "      <th>Volume</th>\n",
       "    </tr>\n",
       "  </thead>\n",
       "  <tbody>\n",
       "    <tr>\n",
       "      <th>count</th>\n",
       "      <td>1009.000000</td>\n",
       "      <td>1009.000000</td>\n",
       "      <td>1009.000000</td>\n",
       "      <td>1009.000000</td>\n",
       "      <td>1.009000e+03</td>\n",
       "    </tr>\n",
       "    <tr>\n",
       "      <th>mean</th>\n",
       "      <td>64.456938</td>\n",
       "      <td>63.412567</td>\n",
       "      <td>63.937532</td>\n",
       "      <td>63.965709</td>\n",
       "      <td>2.989522e+07</td>\n",
       "    </tr>\n",
       "    <tr>\n",
       "      <th>std</th>\n",
       "      <td>19.100367</td>\n",
       "      <td>18.808177</td>\n",
       "      <td>18.978411</td>\n",
       "      <td>18.962861</td>\n",
       "      <td>1.525638e+07</td>\n",
       "    </tr>\n",
       "    <tr>\n",
       "      <th>min</th>\n",
       "      <td>40.740002</td>\n",
       "      <td>39.720001</td>\n",
       "      <td>40.340000</td>\n",
       "      <td>40.290001</td>\n",
       "      <td>7.425600e+06</td>\n",
       "    </tr>\n",
       "    <tr>\n",
       "      <th>25%</th>\n",
       "      <td>48.220001</td>\n",
       "      <td>47.540001</td>\n",
       "      <td>47.880001</td>\n",
       "      <td>47.869999</td>\n",
       "      <td>2.128340e+07</td>\n",
       "    </tr>\n",
       "    <tr>\n",
       "      <th>50%</th>\n",
       "      <td>57.799999</td>\n",
       "      <td>57.209999</td>\n",
       "      <td>57.529999</td>\n",
       "      <td>57.560001</td>\n",
       "      <td>2.664050e+07</td>\n",
       "    </tr>\n",
       "    <tr>\n",
       "      <th>75%</th>\n",
       "      <td>74.419998</td>\n",
       "      <td>73.599998</td>\n",
       "      <td>73.989998</td>\n",
       "      <td>74.050003</td>\n",
       "      <td>3.414090e+07</td>\n",
       "    </tr>\n",
       "    <tr>\n",
       "      <th>max</th>\n",
       "      <td>112.779999</td>\n",
       "      <td>111.519997</td>\n",
       "      <td>111.690002</td>\n",
       "      <td>112.330002</td>\n",
       "      <td>2.025224e+08</td>\n",
       "    </tr>\n",
       "  </tbody>\n",
       "</table>\n",
       "</div>"
      ],
      "text/plain": [
       "        High Price    Low Price   Open Price  Close Price        Volume\n",
       "count  1009.000000  1009.000000  1009.000000  1009.000000  1.009000e+03\n",
       "mean     64.456938    63.412567    63.937532    63.965709  2.989522e+07\n",
       "std      19.100367    18.808177    18.978411    18.962861  1.525638e+07\n",
       "min      40.740002    39.720001    40.340000    40.290001  7.425600e+06\n",
       "25%      48.220001    47.540001    47.880001    47.869999  2.128340e+07\n",
       "50%      57.799999    57.209999    57.529999    57.560001  2.664050e+07\n",
       "75%      74.419998    73.599998    73.989998    74.050003  3.414090e+07\n",
       "max     112.779999   111.519997   111.690002   112.330002  2.025224e+08"
      ]
     },
     "execution_count": 7,
     "metadata": {},
     "output_type": "execute_result"
    }
   ],
   "source": [
    "msdata.describe()"
   ]
  },
  {
   "cell_type": "code",
   "execution_count": 8,
   "metadata": {},
   "outputs": [
    {
     "data": {
      "text/plain": [
       "[<matplotlib.lines.Line2D at 0x174a902bf28>]"
      ]
     },
     "execution_count": 8,
     "metadata": {},
     "output_type": "execute_result"
    },
    {
     "data": {
      "image/png": "[encoded data removed]",
      "text/plain": [
       "<Figure size 432x288 with 1 Axes>"
      ]
     },
     "metadata": {
      "needs_background": "light"
     },
     "output_type": "display_data"
    }
   ],
   "source": [
    "plt.plot(msdata[\"Close Price\"])"
   ]
  },
  {
   "cell_type": "code",
   "execution_count": 9,
   "metadata": {},
   "outputs": [],
   "source": [
    "used_features = [\"High Price\", \"Low Price\",\"Open Price\",\"Volume\"]"
   ]
  },
  {
   "cell_type": "code",
   "execution_count": 71,
   "metadata": {},
   "outputs": [],
   "source": [
    "History = msdata[used_features].values\n",
    "ClosePrice = msdata[\"Close Price\"].values"
   ]
  },
  {
   "cell_type": "code",
   "execution_count": 72,
   "metadata": {},
   "outputs": [
    {
     "name": "stdout",
     "output_type": "stream",
     "text": [
      "预测准确率:100.0,预测正确样本数:455, 总测试样本数:455\n"
     ]
    }
   ],
   "source": [
    "X_train,X_test,y_train,y_test = train_test_split(History, ClosePrice, test_size=0.45, random_state=42)\n",
    "dataModle=LinearRegression()\n",
    "dataModle.fit(X_train,y_train)\n",
    "y_predict = dataModle.predict(X_test)\n",
    "\n",
    "Tolerance=0.05\n",
    "CorrectNum = 0\n",
    "CorrectRate = 0.00\n",
    "Accuracy= 0.00\n",
    "\n",
    "for i in range(len(y_predict)):\n",
    "    Accuracy=abs(y_predict[i]-y_test[i])/y_test[i]\n",
    "    #print(\"序列号:%d,预测值:%s, 真实值:%s,精度:%s\" % (i, y_predict[i], y_test[i], accuracy))\n",
    "    \n",
    "    if Accuracy < Tolerance:\n",
    "        CorrectNum =CorrectNum+1\n",
    "    \n",
    "CorrectRate = CorrectNum/len(y_predict)*100\n",
    "print(\"预测准确率:%s,预测正确样本数:%s, 总测试样本数:%s\" % (CorrectRate, CorrectNum, len(y_predict)))"
   ]
  },
  {
   "cell_type": "code",
   "execution_count": 122,
   "metadata": {},
   "outputs": [],
   "source": [
    "def TestSizeParameter(Parameter_Test_Size):\n",
    "    \n",
    "    X_train,X_test,y_train,y_test = train_test_split(History, ClosePrice, test_size=Parameter_Test_Size, random_state=42)\n",
    "    dataModle=LinearRegression()\n",
    "    dataModle.fit(X_train,y_train)\n",
    "    y_predict = dataModle.predict(X_test)\n",
    "    \n",
    "    global CorrectRate\n",
    "    _Tolerance=0.05\n",
    "    _CorrectNum = 0\n",
    "    _Accuracy=0.00\n",
    "    _CorrectRate = 0.00\n",
    "    \n",
    "    for _i in range(len(y_predict)):\n",
    "        _Accuracy=abs(y_predict[_i]-y_test[_i])/y_test[_i]\n",
    "        \n",
    "        if _Accuracy < _Tolerance:\n",
    "            _CorrectNum =  _CorrectNum + 1\n",
    "        #print(\"序列号:%d,预测值:%s, 真实值:%s,精度:%s\" % (_i, y_predict[_i], y_test[_i], _Accuracy))   \n",
    "    \n",
    "    _CorrectRate = _CorrectNum/len(y_predict)*100\n",
    "    CorrectRate=_CorrectRate\n",
    "    #print(\"预测准确率:%s,预测正确样本数:%s, 总测试样本数:%s\" % (_CorrectRate,_CorrectNum, len(y_predict)))\n",
    "    return CorrectRate"
   ]
  },
  {
   "cell_type": "code",
   "execution_count": 123,
   "metadata": {},
   "outputs": [
    {
     "data": {
      "text/plain": [
       "[<matplotlib.lines.Line2D at 0x174ac446240>]"
      ]
     },
     "execution_count": 123,
     "metadata": {},
     "output_type": "execute_result"
    },
    {
     "data": {
      "image/png": "[encoded data removed]",
      "text/plain": [
       "<Figure size 432x288 with 1 Axes>"
      ]
     },
     "metadata": {
      "needs_background": "light"
     },
     "output_type": "display_data"
    }
   ],
   "source": [
    "t=[]\n",
    "for i in [0.05,0.10,0.15,0.20,0.25,0.30,0.35,0.40,0.45,0.50]:\n",
    "    t.append(TestSizeParameter(i))\n",
    "plt.plot(t)"
   ]
  },
  {
   "cell_type": "code",
   "execution_count": null,
   "metadata": {},
   "outputs": [],
   "source": []
  }
 ],
 "metadata": {
  "kernelspec": {
   "display_name": "Python 3",
   "language": "python",
   "name": "python3"
  },
  "language_info": {
   "codemirror_mode": {
    "name": "ipython",
    "version": 3
   },
   "file_extension": ".py",
   "mimetype": "text/x-python",
   "name": "python",
   "nbconvert_exporter": "python",
   "pygments_lexer": "ipython3",
   "version": "3.7.1"
  }
 },
 "nbformat": 4,
 "nbformat_minor": 2
}
